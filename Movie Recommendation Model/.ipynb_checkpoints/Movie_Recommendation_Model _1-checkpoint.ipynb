{
 "cells": [
  {
   "cell_type": "code",
   "execution_count": null,
   "id": "4c4fbb80-e69c-4904-b9df-4cefb500acfd",
   "metadata": {},
   "outputs": [],
   "source": [
    "# IMPROVEMENTS NEEDED\n",
    "\n",
    "# 1. Improve the dataset by including the latest movies as well.\n",
    "\n",
    "# 2. Include Hindi movies.\n",
    "\n",
    "# 3. More?"
   ]
  },
  {
   "cell_type": "code",
   "execution_count": null,
   "id": "c0d9aa39-8d55-43d3-bcc0-ab4af40598b9",
   "metadata": {},
   "outputs": [],
   "source": [
    "import pandas as pd\n",
    "import numpy as np\n",
    "from sklearn.feature_extraction.text import CountVectorizer\n",
    "from sklearn.metrics.pairwise import cosine_similarity\n",
    "from scipy import sparse"
   ]
  },
  {
   "cell_type": "code",
   "execution_count": null,
   "id": "8aecb9c6-5445-4d6c-8435-f0c292758299",
   "metadata": {},
   "outputs": [],
   "source": [
    "def get_title_from_index(index):\n",
    "    return df[df.index == index][\"title\"].values[0]"
   ]
  },
  {
   "cell_type": "code",
   "execution_count": null,
   "id": "e84e58b8-c5ab-47e1-9870-c56d2f4c5bde",
   "metadata": {},
   "outputs": [],
   "source": [
    "def get_index_from_title(title):\n",
    "    return df[df.title == title][\"index\"].values[0]"
   ]
  },
  {
   "cell_type": "code",
   "execution_count": null,
   "id": "97a4f0a9-9936-43cf-8156-b45f99c6bd45",
   "metadata": {},
   "outputs": [],
   "source": [
    "df = pd.read_csv(\"movie_dataset.csv\")\n",
    "df.columns"
   ]
  },
  {
   "cell_type": "code",
   "execution_count": null,
   "id": "2e01fea2-1f1d-4ae0-a884-04bbfb787544",
   "metadata": {},
   "outputs": [],
   "source": [
    "def combined_features(row):\n",
    "\ttry:\n",
    "\t\treturn row['keywords'] +\" \"+row['cast']+\" \"+row[\"genres\"]+\" \"+row[\"director\"]\n",
    "\texcept:\n",
    "\t\tprint(\"Error:\", row)\t"
   ]
  },
  {
   "cell_type": "code",
   "execution_count": null,
   "id": "0ede9529-608d-4470-8e2b-b3fba4cd143b",
   "metadata": {},
   "outputs": [],
   "source": [
    "features = ['keywords', 'cast', 'genres', 'director']\n",
    "for feature in features:\n",
    "    df[feature] = df[feature].fillna(' ')\n",
    "\n",
    "df[\"combined_features\"]=df.apply(combined_features, axis=1)\n",
    "print(df[\"combined_features\"].head())"
   ]
  },
  {
   "cell_type": "code",
   "execution_count": null,
   "id": "7f44977b-f244-4c45-9638-5fe919bfabf0",
   "metadata": {},
   "outputs": [],
   "source": [
    "cv = CountVectorizer()\n",
    "\n",
    "count_matrix = cv.fit_transform(df[\"combined_features\"])"
   ]
  },
  {
   "cell_type": "code",
   "execution_count": null,
   "id": "e0fb97e1-a279-422f-ba7d-b6c1cd3b293e",
   "metadata": {},
   "outputs": [],
   "source": [
    "simi_scores=cosine_similarity(count_matrix)\n",
    "print(simi_scores)"
   ]
  },
  {
   "cell_type": "code",
   "execution_count": null,
   "id": "987888a1-48cf-417b-b0dd-7babf87c20c4",
   "metadata": {},
   "outputs": [],
   "source": [
    "movie_user_likes = \"Despicable Me 2\"\n",
    "movie_index = get_index_from_title(movie_user_likes)\n",
    "print(movie_index)\n",
    "\n",
    "similar_movies = list(enumerate(simi_scores[movie_index]))\n",
    "sorted_similar_movies = sorted(similar_movies, key = lambda x:x[1], reverse = True)"
   ]
  },
  {
   "cell_type": "code",
   "execution_count": null,
   "id": "11a9634a-b22c-40c0-a70d-1d8a7d67a705",
   "metadata": {},
   "outputs": [],
   "source": [
    "i=0\n",
    "for movie in sorted_similar_movies:\n",
    "    print(get_title_from_index(movie[0]))\n",
    "    i=i+1\n",
    "    if i87:\n",
    "        break"
   ]
  },
  {
   "cell_type": "code",
   "execution_count": null,
   "id": "982c8d8c-f8ac-4dab-ad39-3fdc2d1cd0d1",
   "metadata": {},
   "outputs": [],
   "source": []
  }
 ],
 "metadata": {
  "kernelspec": {
   "display_name": "Python 3 (ipykernel)",
   "language": "python",
   "name": "python3"
  },
  "language_info": {
   "codemirror_mode": {
    "name": "ipython",
    "version": 3
   },
   "file_extension": ".py",
   "mimetype": "text/x-python",
   "name": "python",
   "nbconvert_exporter": "python",
   "pygments_lexer": "ipython3",
   "version": "3.12.4"
  }
 },
 "nbformat": 4,
 "nbformat_minor": 5
}
